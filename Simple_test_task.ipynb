{
  "nbformat": 4,
  "nbformat_minor": 0,
  "metadata": {
    "colab": {
      "name": "Simple test task.ipynb",
      "provenance": [],
      "collapsed_sections": [],
      "include_colab_link": true
    },
    "kernelspec": {
      "name": "python3",
      "display_name": "Python 3"
    },
    "language_info": {
      "name": "python"
    }
  },
  "cells": [
    {
      "cell_type": "markdown",
      "metadata": {
        "id": "view-in-github",
        "colab_type": "text"
      },
      "source": [
        "<a href=\"https://colab.research.google.com/github/F1Nco/Simple-test-task/blob/main/Simple_test_task.ipynb\" target=\"_parent\"><img src=\"https://colab.research.google.com/assets/colab-badge.svg\" alt=\"Open In Colab\"/></a>"
      ]
    },
    {
      "cell_type": "markdown",
      "source": [
        "**Simple test task**"
      ],
      "metadata": {
        "id": "SwsMkZk5gxac"
      }
    },
    {
      "cell_type": "markdown",
      "source": [
        "You have a String \"xyxyxyxyxx\", return \"true\" if number of letters equals, and \"false\" otherwise."
      ],
      "metadata": {
        "id": "71UArnkbhQ9t"
      }
    },
    {
      "cell_type": "code",
      "source": [
        "def check_if_letters_in_string_equal(string):\n",
        "  counter_for_x = 0\n",
        "  counter_for_y = 0\n",
        "\n",
        "  for e in string:\n",
        "    if e == \"x\":\n",
        "      counter_for_x += 1 # increment\n",
        "    if e == \"y\":\n",
        "      counter_for_y += 1\n",
        "\n",
        "  return counter_for_x == counter_for_y"
      ],
      "metadata": {
        "id": "Mw5MtE6kkisf"
      },
      "execution_count": null,
      "outputs": []
    },
    {
      "cell_type": "code",
      "source": [
        "check_if_letters_in_string_equal(\"xyxyxyxy\")"
      ],
      "metadata": {
        "colab": {
          "base_uri": "https://localhost:8080/"
        },
        "id": "BaCLGECIiKOg",
        "outputId": "0f98f6b1-f064-4cdb-cf0c-8f91e37cb732"
      },
      "execution_count": null,
      "outputs": [
        {
          "output_type": "execute_result",
          "data": {
            "text/plain": [
              "True"
            ]
          },
          "metadata": {},
          "execution_count": 33
        }
      ]
    },
    {
      "cell_type": "code",
      "source": [
        "check_if_letters_in_string_equal(\"xyxyxyxyxx\")"
      ],
      "metadata": {
        "colab": {
          "base_uri": "https://localhost:8080/"
        },
        "id": "8K5TPeYVli1f",
        "outputId": "fd246ff0-afa6-4bab-bfcb-bbf7b441cb58"
      },
      "execution_count": null,
      "outputs": [
        {
          "output_type": "execute_result",
          "data": {
            "text/plain": [
              "False"
            ]
          },
          "metadata": {},
          "execution_count": 34
        }
      ]
    },
    {
      "cell_type": "code",
      "source": [
        "check_if_letters_in_string_equal(\"xyxyxyxyyy\")"
      ],
      "metadata": {
        "colab": {
          "base_uri": "https://localhost:8080/"
        },
        "id": "hQlKH2ElliuL",
        "outputId": "70b23a33-4cfb-431e-997e-5f526e91ef55"
      },
      "execution_count": null,
      "outputs": [
        {
          "output_type": "execute_result",
          "data": {
            "text/plain": [
              "False"
            ]
          },
          "metadata": {},
          "execution_count": 35
        }
      ]
    },
    {
      "cell_type": "markdown",
      "source": [
        ""
      ],
      "metadata": {
        "id": "ivVNz94ygwJ6"
      }
    }
  ]
}